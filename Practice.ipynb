{
 "cells": [
  {
   "cell_type": "code",
   "execution_count": 8,
   "metadata": {},
   "outputs": [],
   "source": [
    "#import dependencies\n",
    "from splinter import Browser\n",
    "from bs4 import BeautifulSoup as soup\n",
    "from webdriver_manager.chrome import ChromeDriverManager"
   ]
  },
  {
   "cell_type": "code",
   "execution_count": 4,
   "metadata": {},
   "outputs": [
    {
     "name": "stdout",
     "output_type": "stream",
     "text": [
      "Requirement already satisfied: splinter in /Users/nupharezra/opt/anaconda3/lib/python3.8/site-packages (0.14.0)\n",
      "Requirement already satisfied: selenium>=3.141.0 in /Users/nupharezra/opt/anaconda3/lib/python3.8/site-packages (from splinter) (3.141.0)\n",
      "Requirement already satisfied: six in /Users/nupharezra/opt/anaconda3/lib/python3.8/site-packages (from splinter) (1.15.0)\n",
      "Requirement already satisfied: urllib3 in /Users/nupharezra/opt/anaconda3/lib/python3.8/site-packages (from selenium>=3.141.0->splinter) (1.25.11)\n",
      "Collecting webdriver_manager\n",
      "  Using cached webdriver_manager-3.3.0-py2.py3-none-any.whl (16 kB)\n",
      "Collecting configparser\n",
      "  Using cached configparser-5.0.2-py3-none-any.whl (19 kB)\n",
      "Collecting crayons\n",
      "  Using cached crayons-0.4.0-py2.py3-none-any.whl (4.6 kB)\n",
      "Requirement already satisfied: requests in /Users/nupharezra/opt/anaconda3/lib/python3.8/site-packages (from webdriver_manager) (2.24.0)\n",
      "Requirement already satisfied: colorama in /Users/nupharezra/opt/anaconda3/lib/python3.8/site-packages (from crayons->webdriver_manager) (0.4.4)\n",
      "Requirement already satisfied: idna<3,>=2.5 in /Users/nupharezra/opt/anaconda3/lib/python3.8/site-packages (from requests->webdriver_manager) (2.10)\n",
      "Requirement already satisfied: certifi>=2017.4.17 in /Users/nupharezra/opt/anaconda3/lib/python3.8/site-packages (from requests->webdriver_manager) (2020.6.20)\n",
      "Requirement already satisfied: chardet<4,>=3.0.2 in /Users/nupharezra/opt/anaconda3/lib/python3.8/site-packages (from requests->webdriver_manager) (3.0.4)\n",
      "Requirement already satisfied: urllib3!=1.25.0,!=1.25.1,<1.26,>=1.21.1 in /Users/nupharezra/opt/anaconda3/lib/python3.8/site-packages (from requests->webdriver_manager) (1.25.11)\n",
      "Installing collected packages: configparser, crayons, webdriver-manager\n",
      "Successfully installed configparser-5.0.2 crayons-0.4.0 webdriver-manager-3.3.0\n"
     ]
    }
   ],
   "source": [
    "#communicated with the system to install the needed software - only need to run once \n",
    "import sys\n",
    "!{sys.executable} -m pip install splinter\n",
    "\n",
    "import sys\n",
    "!{sys.executable} -m pip install webdriver_manager"
   ]
  },
  {
   "cell_type": "code",
   "execution_count": 10,
   "metadata": {},
   "outputs": [
    {
     "name": "stderr",
     "output_type": "stream",
     "text": [
      "[WDM] - ====== WebDriver manager ======\n"
     ]
    },
    {
     "name": "stdout",
     "output_type": "stream",
     "text": [
      "\n",
      "\n"
     ]
    },
    {
     "name": "stderr",
     "output_type": "stream",
     "text": [
      "[WDM] - Current google-chrome version is 89.0.4389\n",
      "[WDM] - Get LATEST driver version for 89.0.4389\n",
      "[WDM] - Driver [/Users/nupharezra/.wdm/drivers/chromedriver/mac64/89.0.4389.23/chromedriver] found in cache\n"
     ]
    }
   ],
   "source": [
    "#set the executable path and initialize a browser\n",
    "# Set up Splinter\n",
    "executable_path = {'executable_path': ChromeDriverManager().install()}\n",
    "browser = Browser('chrome', **executable_path, headless=False)"
   ]
  },
  {
   "cell_type": "code",
   "execution_count": 11,
   "metadata": {},
   "outputs": [],
   "source": [
    "#visit the quotes to scrape site\n",
    "url = 'http://quotes.toscrape.com/'\n",
    "browser.visit(url)"
   ]
  },
  {
   "cell_type": "code",
   "execution_count": 12,
   "metadata": {},
   "outputs": [],
   "source": [
    "#parse the HTML\n",
    "html = browser.html\n",
    "html_soup = soup(html, 'html.parser')"
   ]
  },
  {
   "cell_type": "code",
   "execution_count": 13,
   "metadata": {},
   "outputs": [
    {
     "data": {
      "text/plain": [
       "'Top Ten tags'"
      ]
     },
     "execution_count": 13,
     "metadata": {},
     "output_type": "execute_result"
    }
   ],
   "source": [
    "#scrape the title\n",
    "title = html_soup.find('h2').text\n",
    "title"
   ]
  },
  {
   "cell_type": "code",
   "execution_count": 14,
   "metadata": {},
   "outputs": [
    {
     "name": "stdout",
     "output_type": "stream",
     "text": [
      "love\n",
      "inspirational\n",
      "life\n",
      "humor\n",
      "books\n",
      "reading\n",
      "friendship\n",
      "friends\n",
      "truth\n",
      "simile\n"
     ]
    }
   ],
   "source": [
    "#scrape the top ten tags\n",
    "tag_box = html_soup.find('div', class_='tags-box')\n",
    "#tag_box\n",
    "tags = tag_box.find_all('a', class_='tag')\n",
    "\n",
    "for tag in tags:\n",
    "    word = tag.text\n",
    "    print(word)"
   ]
  },
  {
   "cell_type": "code",
   "execution_count": 15,
   "metadata": {},
   "outputs": [],
   "source": [
    "#visit the quotes to scrape site\n",
    "url = 'http://quotes.toscrape.com/'\n",
    "browser.visit(url)"
   ]
  },
  {
   "cell_type": "code",
   "execution_count": 18,
   "metadata": {},
   "outputs": [
    {
     "name": "stdout",
     "output_type": "stream",
     "text": [
      "page: 1 -----------\n",
      "“The world as we have created it is a process of our thinking. It cannot be changed without changing our thinking.”\n",
      "page: 1 -----------\n",
      "“It is our choices, Harry, that show what we truly are, far more than our abilities.”\n",
      "page: 1 -----------\n",
      "“There are only two ways to live your life. One is as though nothing is a miracle. The other is as though everything is a miracle.”\n",
      "page: 1 -----------\n",
      "“The person, be it gentleman or lady, who has not pleasure in a good novel, must be intolerably stupid.”\n",
      "page: 1 -----------\n",
      "“Imperfection is beauty, madness is genius and it's better to be absolutely ridiculous than absolutely boring.”\n",
      "page: 1 -----------\n",
      "“Try not to become a man of success. Rather become a man of value.”\n",
      "page: 1 -----------\n",
      "“It is better to be hated for what you are than to be loved for what you are not.”\n",
      "page: 1 -----------\n",
      "“I have not failed. I've just found 10,000 ways that won't work.”\n",
      "page: 1 -----------\n",
      "“A woman is like a tea bag; you never know how strong it is until it's in hot water.”\n",
      "page: 1 -----------\n",
      "“A day without sunshine is like, you know, night.”\n",
      "page: 2 -----------\n",
      "“The world as we have created it is a process of our thinking. It cannot be changed without changing our thinking.”\n",
      "page: 2 -----------\n",
      "“It is our choices, Harry, that show what we truly are, far more than our abilities.”\n",
      "page: 2 -----------\n",
      "“There are only two ways to live your life. One is as though nothing is a miracle. The other is as though everything is a miracle.”\n",
      "page: 2 -----------\n",
      "“The person, be it gentleman or lady, who has not pleasure in a good novel, must be intolerably stupid.”\n",
      "page: 2 -----------\n",
      "“Imperfection is beauty, madness is genius and it's better to be absolutely ridiculous than absolutely boring.”\n",
      "page: 2 -----------\n",
      "“Try not to become a man of success. Rather become a man of value.”\n",
      "page: 2 -----------\n",
      "“It is better to be hated for what you are than to be loved for what you are not.”\n",
      "page: 2 -----------\n",
      "“I have not failed. I've just found 10,000 ways that won't work.”\n",
      "page: 2 -----------\n",
      "“A woman is like a tea bag; you never know how strong it is until it's in hot water.”\n",
      "page: 2 -----------\n",
      "“A day without sunshine is like, you know, night.”\n",
      "page: 3 -----------\n",
      "“The world as we have created it is a process of our thinking. It cannot be changed without changing our thinking.”\n",
      "page: 3 -----------\n",
      "“It is our choices, Harry, that show what we truly are, far more than our abilities.”\n",
      "page: 3 -----------\n",
      "“There are only two ways to live your life. One is as though nothing is a miracle. The other is as though everything is a miracle.”\n",
      "page: 3 -----------\n",
      "“The person, be it gentleman or lady, who has not pleasure in a good novel, must be intolerably stupid.”\n",
      "page: 3 -----------\n",
      "“Imperfection is beauty, madness is genius and it's better to be absolutely ridiculous than absolutely boring.”\n",
      "page: 3 -----------\n",
      "“Try not to become a man of success. Rather become a man of value.”\n",
      "page: 3 -----------\n",
      "“It is better to be hated for what you are than to be loved for what you are not.”\n",
      "page: 3 -----------\n",
      "“I have not failed. I've just found 10,000 ways that won't work.”\n",
      "page: 3 -----------\n",
      "“A woman is like a tea bag; you never know how strong it is until it's in hot water.”\n",
      "page: 3 -----------\n",
      "“A day without sunshine is like, you know, night.”\n",
      "page: 4 -----------\n",
      "“The world as we have created it is a process of our thinking. It cannot be changed without changing our thinking.”\n",
      "page: 4 -----------\n",
      "“It is our choices, Harry, that show what we truly are, far more than our abilities.”\n",
      "page: 4 -----------\n",
      "“There are only two ways to live your life. One is as though nothing is a miracle. The other is as though everything is a miracle.”\n",
      "page: 4 -----------\n",
      "“The person, be it gentleman or lady, who has not pleasure in a good novel, must be intolerably stupid.”\n",
      "page: 4 -----------\n",
      "“Imperfection is beauty, madness is genius and it's better to be absolutely ridiculous than absolutely boring.”\n",
      "page: 4 -----------\n",
      "“Try not to become a man of success. Rather become a man of value.”\n",
      "page: 4 -----------\n",
      "“It is better to be hated for what you are than to be loved for what you are not.”\n",
      "page: 4 -----------\n",
      "“I have not failed. I've just found 10,000 ways that won't work.”\n",
      "page: 4 -----------\n",
      "“A woman is like a tea bag; you never know how strong it is until it's in hot water.”\n",
      "page: 4 -----------\n",
      "“A day without sunshine is like, you know, night.”\n",
      "page: 5 -----------\n",
      "“The world as we have created it is a process of our thinking. It cannot be changed without changing our thinking.”\n",
      "page: 5 -----------\n",
      "“It is our choices, Harry, that show what we truly are, far more than our abilities.”\n",
      "page: 5 -----------\n",
      "“There are only two ways to live your life. One is as though nothing is a miracle. The other is as though everything is a miracle.”\n",
      "page: 5 -----------\n",
      "“The person, be it gentleman or lady, who has not pleasure in a good novel, must be intolerably stupid.”\n",
      "page: 5 -----------\n",
      "“Imperfection is beauty, madness is genius and it's better to be absolutely ridiculous than absolutely boring.”\n",
      "page: 5 -----------\n",
      "“Try not to become a man of success. Rather become a man of value.”\n",
      "page: 5 -----------\n",
      "“It is better to be hated for what you are than to be loved for what you are not.”\n",
      "page: 5 -----------\n",
      "“I have not failed. I've just found 10,000 ways that won't work.”\n",
      "page: 5 -----------\n",
      "“A woman is like a tea bag; you never know how strong it is until it's in hot water.”\n",
      "page: 5 -----------\n",
      "“A day without sunshine is like, you know, night.”\n"
     ]
    }
   ],
   "source": [
    "#for loop to scrape all the quotes for each page on the site\n",
    "for x in range(1,6):\n",
    "    html = browser.html\n",
    "    quote_soup = soup(html, 'html.parser')\n",
    "    quotes = quote_soup.find_all('span', class_='text')\n",
    "    for quote in quotes:\n",
    "        print('page:', x, '-----------')\n",
    "        print(quote.text)\n",
    "    browser.links.find_by_partial_text('Next')\n"
   ]
  },
  {
   "cell_type": "code",
   "execution_count": null,
   "metadata": {},
   "outputs": [],
   "source": []
  }
 ],
 "metadata": {
  "kernelspec": {
   "display_name": "PythonData",
   "language": "python",
   "name": "pythondata"
  },
  "language_info": {
   "codemirror_mode": {
    "name": "ipython",
    "version": 3
   },
   "file_extension": ".py",
   "mimetype": "text/x-python",
   "name": "python",
   "nbconvert_exporter": "python",
   "pygments_lexer": "ipython3",
   "version": "3.8.5"
  }
 },
 "nbformat": 4,
 "nbformat_minor": 4
}
